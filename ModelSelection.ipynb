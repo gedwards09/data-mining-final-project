{
 "cells": [
  {
   "cell_type": "code",
   "execution_count": 1,
   "metadata": {},
   "outputs": [],
   "source": [
    "import numpy as np\n",
    "import pandas as pd\n",
    "import matplotlib.pyplot as plt\n",
    "import statsmodels.api as sm\n",
    "from sklearn.impute import SimpleImputer\n",
    "from sklearn.preprocessing import StandardScaler, OrdinalEncoder\n",
    "from sklearn.model_selection import GridSearchCV, cross_val_score, StratifiedKFold\n",
    "from sklearn.feature_selection import RFECV\n",
    "from sklearn.linear_model import LogisticRegression\n",
    "from sklearn.metrics import roc_auc_score, plot_roc_curve\n",
    "from sklearn.tree import DecisionTreeClassifier, plot_tree\n",
    "from sklearn.ensemble import RandomForestClassifier, AdaBoostClassifier"
   ]
  },
  {
   "cell_type": "code",
   "execution_count": 2,
   "metadata": {},
   "outputs": [],
   "source": [
    "train = pd.read_csv(\"./exercise_40_train.csv\")"
   ]
  },
  {
   "cell_type": "markdown",
   "metadata": {},
   "source": [
    "Now apply all preprocessing modifications to train and test data"
   ]
  },
  {
   "cell_type": "code",
   "execution_count": 3,
   "metadata": {},
   "outputs": [],
   "source": [
    "# change 'x7' and 'x19' to continuous variables\n",
    "train['x7'] = train.x7.str.replace(\"%\",'').astype(np.float64)\n",
    "train['x19'] = train.x19.str.replace(\"$\",'').astype(np.float64)\n",
    "\n",
    "# drop column 'x39'\n",
    "train.drop('x39',axis=1,inplace=True)\n",
    "\n",
    "# 'x99': missing data gets its own category\n",
    "train[\"x99\"] = train[\"x99\"].fillna(\"U\")\n",
    "\n",
    "# 'x3': Set consistent naming convention for days of the week\n",
    "train['x3'] = train['x3'].str[:3]\n",
    "\n",
    "# 'x60': Sort Months into \"Summer\" and \"Winter\"\n",
    "month_map = {\n",
    "        \"February\":\"FebMarApr\",\n",
    "        \"March\":\"FebMarApr\",\n",
    "        \"April\":\"FebMarApr\",\n",
    "        \"May\":\"MayJun\",\n",
    "        \"June\":\"MayJun\",\n",
    "        \"September\":\"SepOctNov\",\n",
    "        \"October\":\"SepOctNov\",\n",
    "        \"November\":\"SepOctNov\"\n",
    "    }\n",
    "train[\"x60\"] = train['x60'].replace(month_map)\n",
    "\n",
    "# 'x24': treat missing data as its own category\n",
    "train[\"x24\"] = train[\"x24\"].fillna(\"U\")\n",
    "\n",
    "# Group states into VeryHigh, High, Medium, Low, and VeryLow risk\n",
    "df = train[[\"x33\",\"y\"]].groupby(by='x33',dropna=False).agg(['mean','count'])\n",
    "df[\"bin\"] = pd.cut(df[(\"y\",\"mean\")], \n",
    "    bins=[.03,.105,.13,.16,.19,.34], \n",
    "    labels=[\"VeryLow\",\"Low\",\"Medium\",\"High\",\"VeryHigh\"])\n",
    "state_map = {}\n",
    "for index, row in df.iterrows():\n",
    "    state_map[index] = row.bin.iloc[0]\n",
    "train['x33'] = train['x33'].replace(state_map)\n",
    "\n",
    "# 'x77': combine 'toyota', 'buick', 'nissan' into single category.\n",
    "train['x77'] = train[\"x77\"].replace({\"toyota\":\"ToyotaNissanBuick\",\n",
    "                                    \"nissan\":\"ToyotaNissanBuick\",\n",
    "                                    \"buick\":\"ToyotaNissanBuick\"})\n",
    "# 'x77': treat missing data as its own category\n",
    "train[\"x77\"] = train[\"x77\"].fillna(\"U\")  "
   ]
  },
  {
   "cell_type": "markdown",
   "metadata": {},
   "source": [
    "Now, standardize all continuous features of training data and use this scale for the testing data. Then fill training and testing NaN's with the meidan value for training data."
   ]
  },
  {
   "cell_type": "code",
   "execution_count": 4,
   "metadata": {},
   "outputs": [],
   "source": [
    "train_cat = train.loc[:,train.dtypes==np.object].copy()\n",
    "train_num = train.loc[:,train.dtypes==np.float64].copy()\n",
    "y_train = train.y.copy()\n",
    "\n",
    "# normalize all continuous data\n",
    "scaler = StandardScaler()\n",
    "scaler.fit(train_num)\n",
    "train_num_scal = scaler.transform(train_num)\n",
    "\n",
    "# fill in all missing continuous data with median of training data\n",
    "imputer = SimpleImputer(strategy='median')\n",
    "imputer.fit(train_num_scal)\n",
    "train_num_scal_tf = pd.DataFrame( imputer.transform(train_num_scal), \n",
    "                                 columns = train_num.columns, index = train_num.index )\n",
    "\n",
    "# get dummy variables\n",
    "cat_var_ls = [\n",
    "    'x3_Mon','x3_Tue','x3_Thu','x3_Fri','x3_Sat','x3_Sun',#'x3_Wed',\n",
    "    'x24_male','x24_U',#'x24_female',\n",
    "    'x31_yes',#'x31_no',\n",
    "    'x33_VeryLow','x33_Medium','x33_High','x33_VeryHigh',#'x33_Low',\n",
    "    'x60_January','x60_FebMarApr','x60_MayJun','x60_July','x60_August','x60_SepOctNov',#'x60_December',\n",
    "    'x65_allstate', 'x65_esurance', 'x65_farmers','x65_geico',#'x65_progressive'\n",
    "    'x77_ford','x77_subaru','x77_mercedes','x77_chevrolet','x77_ToyotaNissanBuick',#'x77_U',\n",
    "    'x93_yes',#'x93_no',\n",
    "    'x99_U',#'x99_yes',\n",
    "]\n",
    "train_cat_dum = pd.get_dummies(train_cat)[cat_var_ls]\n",
    "\n",
    "train_clean = pd.concat([train_num_scal_tf,train_cat_dum], axis=1)"
   ]
  },
  {
   "cell_type": "markdown",
   "metadata": {},
   "source": [
    "# Generalized Linear Model Selection"
   ]
  },
  {
   "cell_type": "markdown",
   "metadata": {},
   "source": [
    "## Logistic Regression "
   ]
  },
  {
   "cell_type": "code",
   "execution_count": 5,
   "metadata": {},
   "outputs": [
    {
     "name": "stdout",
     "output_type": "stream",
     "text": [
      "Optimization terminated successfully.\n",
      "         Current function value: 0.351457\n",
      "         Iterations 7\n",
      "                           Logit Regression Results                           \n",
      "==============================================================================\n",
      "Dep. Variable:                      y   No. Observations:                40000\n",
      "Model:                          Logit   Df Residuals:                    39881\n",
      "Method:                           MLE   Df Model:                          118\n",
      "Date:                Wed, 21 Jul 2021   Pseudo R-squ.:                  0.1512\n",
      "Time:                        17:50:35   Log-Likelihood:                -14058.\n",
      "converged:                       True   LL-Null:                       -16563.\n",
      "Covariance Type:            nonrobust   LLR p-value:                     0.000\n",
      "=========================================================================================\n",
      "                            coef    std err          z      P>|z|      [0.025      0.975]\n",
      "-----------------------------------------------------------------------------------------\n",
      "const                    -2.3226      0.070    -33.320      0.000      -2.459      -2.186\n",
      "x1                        0.0196      0.017      1.172      0.241      -0.013       0.052\n",
      "x2                        0.0587      0.060      0.981      0.327      -0.059       0.176\n",
      "x4                        0.0025      0.021      0.123      0.902      -0.038       0.043\n",
      "x5                        0.0647      0.023      2.799      0.005       0.019       0.110\n",
      "x6                       -0.0107      0.024     -0.438      0.661      -0.059       0.037\n",
      "x7                       -0.7559      0.017    -45.567      0.000      -0.788      -0.723\n",
      "x8                        0.1435      0.035      4.063      0.000       0.074       0.213\n",
      "x9                       -0.0093      0.030     -0.307      0.759      -0.069       0.050\n",
      "x10                       0.0037      0.020      0.183      0.855      -0.036       0.043\n",
      "x11                       0.1407      0.036      3.890      0.000       0.070       0.212\n",
      "x12                       0.0129      0.042      0.304      0.761      -0.070       0.096\n",
      "x13                       0.0579      0.030      1.934      0.053      -0.001       0.117\n",
      "x14                       0.0308      0.018      1.690      0.091      -0.005       0.067\n",
      "x15                      -0.0470      0.023     -2.041      0.041      -0.092      -0.002\n",
      "x16                      -0.0387      0.026     -1.495      0.135      -0.089       0.012\n",
      "x17                       0.0068      0.030      0.226      0.821      -0.052       0.066\n",
      "x18                      -0.1380      0.044     -3.138      0.002      -0.224      -0.052\n",
      "x19                      -0.1424      0.015     -9.286      0.000      -0.172      -0.112\n",
      "x20                      -0.0869      0.040     -2.167      0.030      -0.166      -0.008\n",
      "x21                       0.0238      0.018      1.328      0.184      -0.011       0.059\n",
      "x22                      -0.0019      0.016     -0.120      0.904      -0.033       0.029\n",
      "x23                       0.0127      0.018      0.710      0.478      -0.022       0.048\n",
      "x25                       0.0113      0.016      0.704      0.481      -0.020       0.043\n",
      "x26                      -0.0102      0.030     -0.343      0.731      -0.068       0.048\n",
      "x27                       0.1012      0.040      2.536      0.011       0.023       0.180\n",
      "x28                      -0.2360      0.053     -4.436      0.000      -0.340      -0.132\n",
      "x29                      -0.0116      0.021     -0.562      0.574      -0.052       0.029\n",
      "x30                      -0.0257      0.037     -0.687      0.492      -0.099       0.048\n",
      "x32                       0.0121      0.021      0.588      0.557      -0.028       0.052\n",
      "x34                      -0.0595      0.048     -1.251      0.211      -0.153       0.034\n",
      "x35                       0.0350      0.031      1.133      0.257      -0.026       0.095\n",
      "x36                      -0.2208      0.056     -3.912      0.000      -0.331      -0.110\n",
      "x37                       0.1664      0.053      3.110      0.002       0.062       0.271\n",
      "x38                      -0.0147      0.016     -0.926      0.355      -0.046       0.016\n",
      "x40                      -0.1807      0.036     -5.071      0.000      -0.251      -0.111\n",
      "x41                      -0.0735      0.031     -2.341      0.019      -0.135      -0.012\n",
      "x42                       0.0126      0.020      0.616      0.538      -0.027       0.053\n",
      "x43                       0.0008      0.017      0.046      0.963      -0.033       0.034\n",
      "x44                      -0.0142      0.041     -0.349      0.727      -0.094       0.065\n",
      "x45                       0.0128      0.020      0.629      0.529      -0.027       0.053\n",
      "x46                      -0.0613      0.030     -2.024      0.043      -0.121      -0.002\n",
      "x47                      -0.6369      0.047    -13.548      0.000      -0.729      -0.545\n",
      "x48                       0.0065      0.063      0.102      0.918      -0.118       0.131\n",
      "x49                       0.0083      0.031      0.269      0.788      -0.052       0.069\n",
      "x50                      -0.0578      0.044     -1.318      0.188      -0.144       0.028\n",
      "x51                       0.0741      0.017      4.445      0.000       0.041       0.107\n",
      "x52                       0.0217      0.029      0.743      0.457      -0.035       0.079\n",
      "x53                      -0.0754      0.052     -1.457      0.145      -0.177       0.026\n",
      "x54                       0.0496      0.022      2.224      0.026       0.006       0.093\n",
      "x55                      -0.0002      0.021     -0.012      0.991      -0.041       0.041\n",
      "x56                      -0.0070      0.039     -0.180      0.857      -0.083       0.069\n",
      "x57                       0.0040      0.039      0.102      0.918      -0.073       0.081\n",
      "x58                       0.0117      0.016      0.716      0.474      -0.020       0.044\n",
      "x61                       0.2086      0.031      6.666      0.000       0.147       0.270\n",
      "x62                      -0.1097      0.039     -2.811      0.005      -0.186      -0.033\n",
      "x63                       0.0130      0.022      0.597      0.550      -0.030       0.056\n",
      "x64                      -0.0745      0.036     -2.079      0.038      -0.145      -0.004\n",
      "x66                       0.0858      0.033      2.628      0.009       0.022       0.150\n",
      "x67                      -0.0227      0.016     -1.399      0.162      -0.055       0.009\n",
      "x68                       0.0272      0.033      0.818      0.414      -0.038       0.093\n",
      "x69                      -0.0057      0.038     -0.149      0.882      -0.080       0.069\n",
      "x70                      -0.0564      0.041     -1.368      0.171      -0.137       0.024\n",
      "x71                      -0.0108      0.016     -0.696      0.486      -0.041       0.020\n",
      "x72                       0.0094      0.047      0.202      0.840      -0.082       0.101\n",
      "x73                      -0.0849      0.039     -2.195      0.028      -0.161      -0.009\n",
      "x74                       0.0467      0.023      1.989      0.047       0.001       0.093\n",
      "x75                       0.0055      0.025      0.223      0.823      -0.043       0.054\n",
      "x76                       0.0099      0.035      0.288      0.774      -0.058       0.078\n",
      "x78                       0.0096      0.030      0.318      0.751      -0.050       0.069\n",
      "x79                      -0.0023      0.016     -0.144      0.885      -0.033       0.028\n",
      "x80                       0.0069      0.033      0.207      0.836      -0.059       0.073\n",
      "x81                      -0.0065      0.029     -0.227      0.820      -0.063       0.050\n",
      "x82                      -0.1877      0.045     -4.167      0.000      -0.276      -0.099\n",
      "x83                       0.0591      0.037      1.600      0.109      -0.013       0.131\n",
      "x84                      -0.0191      0.016     -1.175      0.240      -0.051       0.013\n",
      "x85                       0.0149      0.030      0.491      0.623      -0.044       0.074\n",
      "x86                       0.0935      0.045      2.073      0.038       0.005       0.182\n",
      "x87                      -0.0536      0.026     -2.091      0.037      -0.104      -0.003\n",
      "x88                      -0.0018      0.019     -0.096      0.923      -0.039       0.035\n",
      "x89                      -0.1362      0.026     -5.320      0.000      -0.186      -0.086\n",
      "x90                       0.0319      0.047      0.684      0.494      -0.060       0.123\n",
      "x91                       0.0360      0.026      1.388      0.165      -0.015       0.087\n",
      "x92                       0.0181      0.016      1.146      0.252      -0.013       0.049\n",
      "x94                      -0.0539      0.031     -1.736      0.083      -0.115       0.007\n",
      "x95                      -0.0315      0.026     -1.197      0.231      -0.083       0.020\n",
      "x96                      -0.0172      0.021     -0.813      0.416      -0.059       0.024\n",
      "x97                      -0.0201      0.026     -0.779      0.436      -0.071       0.031\n",
      "x100                      0.0540      0.038      1.415      0.157      -0.021       0.129\n",
      "x3_Mon                    0.0531      0.054      0.981      0.326      -0.053       0.159\n",
      "x3_Tue                   -0.2272      0.055     -4.124      0.000      -0.335      -0.119\n",
      "x3_Thu                    0.0494      0.060      0.830      0.407      -0.067       0.166\n",
      "x3_Fri                    0.2673      0.054      4.931      0.000       0.161       0.374\n",
      "x3_Sat                    0.2420      0.055      4.403      0.000       0.134       0.350\n",
      "x3_Sun                    0.2778      0.057      4.834      0.000       0.165       0.390\n",
      "x24_male                 -0.0090      0.032     -0.279      0.781      -0.072       0.054\n",
      "x24_U                    -0.0078      0.054     -0.143      0.886      -0.114       0.099\n",
      "x31_yes                  -0.5964      0.059    -10.039      0.000      -0.713      -0.480\n",
      "x33_VeryLow              -0.1915      0.082     -2.343      0.019      -0.352      -0.031\n",
      "x33_Medium                0.2418      0.039      6.158      0.000       0.165       0.319\n",
      "x33_High                  0.5906      0.044     13.296      0.000       0.504       0.678\n",
      "x33_VeryHigh              0.9590      0.048     19.888      0.000       0.865       1.054\n",
      "x60_January               0.0666      0.048      1.378      0.168      -0.028       0.161\n",
      "x60_FebMarApr             0.1066      0.065      1.632      0.103      -0.021       0.235\n",
      "x60_MayJun               -0.1203      0.078     -1.538      0.124      -0.274       0.033\n",
      "x60_July                  0.0189      0.049      0.387      0.699      -0.077       0.115\n",
      "x60_August                0.0413      0.049      0.849      0.396      -0.054       0.137\n",
      "x60_SepOctNov             0.1360      0.064      2.126      0.034       0.011       0.261\n",
      "x65_allstate             -0.0673      0.041     -1.627      0.104      -0.148       0.014\n",
      "x65_esurance             -0.0466      0.046     -1.006      0.315      -0.137       0.044\n",
      "x65_farmers              -0.1372      0.051     -2.690      0.007      -0.237      -0.037\n",
      "x65_geico                -0.0919      0.051     -1.819      0.069      -0.191       0.007\n",
      "x77_ford                  0.0357      0.045      0.786      0.432      -0.053       0.125\n",
      "x77_subaru                0.0012      0.054      0.023      0.982      -0.104       0.106\n",
      "x77_mercedes             -0.0416      0.056     -0.736      0.462      -0.152       0.069\n",
      "x77_chevrolet             0.0132      0.054      0.245      0.807      -0.093       0.119\n",
      "x77_ToyotaNissanBuick     0.0475      0.048      0.991      0.322      -0.046       0.141\n",
      "x93_yes                  -0.7656      0.072    -10.589      0.000      -0.907      -0.624\n",
      "x99_U                    -0.0665      0.033     -2.019      0.043      -0.131      -0.002\n",
      "=========================================================================================\n"
     ]
    }
   ],
   "source": [
    "glm = sm.Logit(y_train,sm.add_constant(train_clean)).fit()\n",
    "print(glm.summary())"
   ]
  },
  {
   "cell_type": "markdown",
   "metadata": {},
   "source": [
    "Use backward feature selection with p-value threshold of 0.05 to select relevent features."
   ]
  },
  {
   "cell_type": "code",
   "execution_count": 6,
   "metadata": {},
   "outputs": [
    {
     "name": "stdout",
     "output_type": "stream",
     "text": [
      "Optimization terminated successfully.\n",
      "         Current function value: 0.352221\n",
      "         Iterations 7\n",
      "                           Logit Regression Results                           \n",
      "==============================================================================\n",
      "Dep. Variable:                      y   No. Observations:                40000\n",
      "Model:                          Logit   Df Residuals:                    39958\n",
      "Method:                           MLE   Df Model:                           41\n",
      "Date:                Wed, 21 Jul 2021   Pseudo R-squ.:                  0.1494\n",
      "Time:                        17:51:03   Log-Likelihood:                -14089.\n",
      "converged:                       True   LL-Null:                       -16563.\n",
      "Covariance Type:            nonrobust   LLR p-value:                     0.000\n",
      "================================================================================\n",
      "                   coef    std err          z      P>|z|      [0.025      0.975]\n",
      "--------------------------------------------------------------------------------\n",
      "const           -2.2726      0.037    -61.125      0.000      -2.345      -2.200\n",
      "x5               0.0575      0.020      2.870      0.004       0.018       0.097\n",
      "x7              -0.7548      0.017    -45.612      0.000      -0.787      -0.722\n",
      "x8               0.0691      0.023      2.985      0.003       0.024       0.114\n",
      "x11              0.1809      0.025      7.189      0.000       0.132       0.230\n",
      "x15             -0.0491      0.018     -2.704      0.007      -0.085      -0.014\n",
      "x18             -0.1831      0.027     -6.899      0.000      -0.235      -0.131\n",
      "x19             -0.1419      0.015     -9.273      0.000      -0.172      -0.112\n",
      "x20             -0.0902      0.022     -4.062      0.000      -0.134      -0.047\n",
      "x27              0.0714      0.029      2.438      0.015       0.014       0.129\n",
      "x28             -0.2771      0.042     -6.592      0.000      -0.360      -0.195\n",
      "x36             -0.2033      0.039     -5.182      0.000      -0.280      -0.126\n",
      "x37              0.0974      0.026      3.728      0.000       0.046       0.149\n",
      "x40             -0.1731      0.026     -6.574      0.000      -0.225      -0.121\n",
      "x41             -0.0749      0.029     -2.599      0.009      -0.131      -0.018\n",
      "x46             -0.0916      0.020     -4.588      0.000      -0.131      -0.052\n",
      "x47             -0.6162      0.036    -16.969      0.000      -0.687      -0.545\n",
      "x51              0.0594      0.015      3.920      0.000       0.030       0.089\n",
      "x54              0.0521      0.019      2.728      0.006       0.015       0.090\n",
      "x61              0.2232      0.028      7.848      0.000       0.167       0.279\n",
      "x62             -0.1167      0.027     -4.283      0.000      -0.170      -0.063\n",
      "x64             -0.0489      0.022     -2.217      0.027      -0.092      -0.006\n",
      "x66              0.0880      0.023      3.899      0.000       0.044       0.132\n",
      "x73             -0.0550      0.027     -2.022      0.043      -0.108      -0.002\n",
      "x82             -0.0844      0.022     -3.832      0.000      -0.128      -0.041\n",
      "x83              0.0510      0.019      2.656      0.008       0.013       0.089\n",
      "x86              0.0657      0.025      2.614      0.009       0.016       0.115\n",
      "x89             -0.1505      0.023     -6.415      0.000      -0.196      -0.105\n",
      "x91              0.0450      0.020      2.251      0.024       0.006       0.084\n",
      "x3_Tue          -0.2587      0.046     -5.563      0.000      -0.350      -0.168\n",
      "x3_Fri           0.2346      0.045      5.161      0.000       0.146       0.324\n",
      "x3_Sat           0.2084      0.046      4.501      0.000       0.118       0.299\n",
      "x3_Sun           0.2414      0.049      4.899      0.000       0.145       0.338\n",
      "x31_yes         -0.5979      0.059    -10.084      0.000      -0.714      -0.482\n",
      "x33_VeryLow     -0.1939      0.082     -2.379      0.017      -0.354      -0.034\n",
      "x33_Medium       0.2397      0.039      6.118      0.000       0.163       0.317\n",
      "x33_High         0.5884      0.044     13.279      0.000       0.502       0.675\n",
      "x33_VeryHigh     0.9552      0.048     19.880      0.000       0.861       1.049\n",
      "x60_MayJun      -0.1671      0.072     -2.327      0.020      -0.308      -0.026\n",
      "x65_farmers     -0.0911      0.045     -2.024      0.043      -0.179      -0.003\n",
      "x93_yes         -0.7622      0.072    -10.563      0.000      -0.904      -0.621\n",
      "x99_U           -0.0670      0.033     -2.038      0.042      -0.131      -0.003\n",
      "================================================================================\n"
     ]
    }
   ],
   "source": [
    "threshold = 0.05\n",
    "ls = [] # list of features to exclude\n",
    "for i in range(len(train_clean.columns)):\n",
    "    lm = sm.Logit(y_train, sm.add_constant(train_clean.drop(ls,axis=1))).fit(disp=0)\n",
    "    ind = lm.pvalues.argmax()\n",
    "    if lm.pvalues.iloc[ind]>threshold: # add worst feature to list of features to exclude from regression model\n",
    "        ls.append(lm.pvalues.index[ind])\n",
    "    else: # if max p-value is smaller than threshold end loop\n",
    "        break\n",
    "\n",
    "glm = sm.Logit(y_train, sm.add_constant(train_clean.drop(ls,axis=1))).fit()\n",
    "print(glm.summary())"
   ]
  },
  {
   "cell_type": "markdown",
   "metadata": {},
   "source": [
    "Total number of significant features: 42 (28 continuous variables and 13 categorical features, along with the fitted intercept)."
   ]
  },
  {
   "cell_type": "markdown",
   "metadata": {},
   "source": [
    "Now, examine how p-value thresholding does on 10-fold cross-validation measuring ROC-AUC score."
   ]
  },
  {
   "cell_type": "code",
   "execution_count": 7,
   "metadata": {},
   "outputs": [],
   "source": [
    "def pval_thresholding(X_train, y_train, threshold=0.05):\n",
    "    ls = [] # list of features to exclude\n",
    "    for i in range(len(X_train.columns)):\n",
    "        lm = sm.Logit(y_train, sm.add_constant(X_train.drop(ls,axis=1))).fit(disp=0)\n",
    "        ind = lm.pvalues.argmax()\n",
    "        if lm.pvalues.iloc[ind]>threshold: # add worst feature to list of features to exclude from regression model\n",
    "            ls.append(lm.pvalues.index[ind])\n",
    "        else: # if max p-value is smaller than threshold end loop\n",
    "            break\n",
    "    return ls"
   ]
  },
  {
   "cell_type": "code",
   "execution_count": 8,
   "metadata": {},
   "outputs": [
    {
     "name": "stdout",
     "output_type": "stream",
     "text": [
      "CV mean: 0.7643500687374902\n",
      "CV sd: 0.0126795840074218\n"
     ]
    }
   ],
   "source": [
    "cv = StratifiedKFold(n_splits=10)\n",
    "glm = LogisticRegression(max_iter=10000, penalty='none')\n",
    "scores = np.zeros(10)\n",
    "i = 0 # track split\n",
    "for train_index, test_index in cv.split(train_clean, y_train):\n",
    "    X_train_train, X_train_test = train_clean.to_numpy()[train_index], train_clean.to_numpy()[test_index]\n",
    "    y_train_train, y_train_test = y_train[train_index], y_train[test_index]\n",
    "    glm.fit(X_train_train, y_train_train)\n",
    "    scores[i] = roc_auc_score(y_train_test, glm.predict_proba(X_train_test)[:,1])\n",
    "    i+=1\n",
    "print(\"CV mean:\", scores.mean())\n",
    "print(\"CV sd:\",scores.std())"
   ]
  },
  {
   "cell_type": "markdown",
   "metadata": {},
   "source": [
    "## Logistic Regression with Recusive Feature Elimination"
   ]
  },
  {
   "cell_type": "markdown",
   "metadata": {},
   "source": [
    "Model performance will ultimatly be measured by its ROC-AUC score, therefore the models should be optimized for performance using that metric. The next model will use recursive feature elimination using cross validated ROC-AUC score selection. The output model should then be tuned to perform well on future data as measure by ROC-AUC score."
   ]
  },
  {
   "cell_type": "code",
   "execution_count": 9,
   "metadata": {},
   "outputs": [
    {
     "data": {
      "text/plain": [
       "RFECV(cv=10, estimator=LogisticRegression(max_iter=10000), n_jobs=-1,\n",
       "      scoring='roc_auc')"
      ]
     },
     "execution_count": 9,
     "metadata": {},
     "output_type": "execute_result"
    }
   ],
   "source": [
    "glm2 = RFECV(LogisticRegression(max_iter=10000),\n",
    "      scoring = 'roc_auc',\n",
    "      n_jobs = -1, cv = 10)\n",
    "glm2.fit(train_clean, y_train)"
   ]
  },
  {
   "cell_type": "markdown",
   "metadata": {},
   "source": [
    "54 total features selected by RFECV."
   ]
  },
  {
   "cell_type": "code",
   "execution_count": 10,
   "metadata": {},
   "outputs": [
    {
     "name": "stdout",
     "output_type": "stream",
     "text": [
      "Index(['x5', 'x7', 'x8', 'x11', 'x15', 'x18', 'x19', 'x20', 'x27', 'x28',\n",
      "       'x36', 'x37', 'x40', 'x41', 'x46', 'x47', 'x51', 'x53', 'x54', 'x61',\n",
      "       'x62', 'x64', 'x66', 'x70', 'x73', 'x74', 'x82', 'x83', 'x86', 'x87',\n",
      "       'x89', 'x91', 'x3_Mon', 'x3_Tue', 'x3_Thu', 'x3_Fri', 'x3_Sat',\n",
      "       'x3_Sun', 'x31_yes', 'x33_VeryLow', 'x33_Medium', 'x33_High',\n",
      "       'x33_VeryHigh', 'x60_January', 'x60_FebMarApr', 'x60_MayJun',\n",
      "       'x60_SepOctNov', 'x65_allstate', 'x65_esurance', 'x65_farmers',\n",
      "       'x65_geico', 'x77_mercedes', 'x93_yes', 'x99_U'],\n",
      "      dtype='object')\n"
     ]
    }
   ],
   "source": [
    "rfe_features = train_clean.columns[glm2.support_]\n",
    "print(rfe_features)"
   ]
  },
  {
   "cell_type": "markdown",
   "metadata": {},
   "source": [
    "Estimate of ROC-AUC score with 10-fold cross validation."
   ]
  },
  {
   "cell_type": "code",
   "execution_count": 11,
   "metadata": {},
   "outputs": [
    {
     "name": "stdout",
     "output_type": "stream",
     "text": [
      "LogisticRegression(max_iter=10000)\n",
      "CV mean: 0.7665994011036468\n",
      "CV sd: 0.012970168214183033\n"
     ]
    }
   ],
   "source": [
    "glm_rfe = LogisticRegression(max_iter=10000)\n",
    "features = train_clean.columns[glm2.support_]\n",
    "cross_val = cross_val_score(glm_rfe, train_clean[features], y_train, cv=10, scoring='roc_auc', n_jobs=-1)\n",
    "print(glm_rfe)\n",
    "print(\"CV mean:\", cross_val.mean())\n",
    "print(\"CV sd:\", cross_val.std())"
   ]
  },
  {
   "cell_type": "markdown",
   "metadata": {},
   "source": [
    "## Logistic Regression with Feature Selection using Lasso Penalty"
   ]
  },
  {
   "cell_type": "markdown",
   "metadata": {},
   "source": [
    "Optimizing LASSO penalization using GridSearchCV."
   ]
  },
  {
   "cell_type": "code",
   "execution_count": 12,
   "metadata": {},
   "outputs": [
    {
     "data": {
      "text/plain": [
       "{'C': 0.1}"
      ]
     },
     "execution_count": 12,
     "metadata": {},
     "output_type": "execute_result"
    }
   ],
   "source": [
    "# First grid search for L1 penalty from 1e-5 to 1e5\n",
    "glm3 = GridSearchCV(LogisticRegression(max_iter=10000,penalty='l1',solver='liblinear'), \n",
    "                    scoring='roc_auc', cv=10,\n",
    "                    param_grid={'C': [10**i for i in np.linspace(-5,5,11)] }, n_jobs=-1)\n",
    "glm3.fit(train_clean,y_train)\n",
    "glm3.best_params_"
   ]
  },
  {
   "cell_type": "markdown",
   "metadata": {},
   "source": [
    "Now grid search between 0.01 and 1:"
   ]
  },
  {
   "cell_type": "code",
   "execution_count": 13,
   "metadata": {},
   "outputs": [
    {
     "data": {
      "text/plain": [
       "{'C': 0.1}"
      ]
     },
     "execution_count": 13,
     "metadata": {},
     "output_type": "execute_result"
    }
   ],
   "source": [
    "c = glm3.best_params_[\"C\"]\n",
    "glm3 = GridSearchCV(LogisticRegression(max_iter=1000,penalty='l1',solver='liblinear'), \n",
    "                    scoring='roc_auc', cv=10,\n",
    "                    param_grid={'C': [10**i for i in np.linspace(np.log10(c)-1, np.log10(c)+1,11)] }, n_jobs=-1)\n",
    "glm3.fit(train_clean,y_train)\n",
    "glm3.best_params_"
   ]
  },
  {
   "cell_type": "markdown",
   "metadata": {},
   "source": [
    "Corresponds to $C = 10^{-1.0}$. Now grid search between $10^{-1.2}$ and $10^{-0.8}$:"
   ]
  },
  {
   "cell_type": "code",
   "execution_count": 14,
   "metadata": {},
   "outputs": [
    {
     "data": {
      "text/plain": [
       "{'C': 0.1318256738556407}"
      ]
     },
     "execution_count": 14,
     "metadata": {},
     "output_type": "execute_result"
    }
   ],
   "source": [
    "c = glm3.best_params_[\"C\"]\n",
    "glm3 = GridSearchCV(LogisticRegression(max_iter=1000,penalty='l1',solver='liblinear'), \n",
    "                    scoring='roc_auc', cv=10,\n",
    "                    param_grid={'C': [10**i for i in np.linspace(np.log10(c)-0.2,np.log10(c)+0.2,11)] }, n_jobs=-1)\n",
    "glm3.fit(train_clean,y_train)\n",
    "glm3.best_params_"
   ]
  },
  {
   "cell_type": "markdown",
   "metadata": {},
   "source": [
    "Corresponds to $C = 10^{-.88}$. Now grid search between $10^{-.90}$ and $10^{-.86}$:"
   ]
  },
  {
   "cell_type": "code",
   "execution_count": 15,
   "metadata": {},
   "outputs": [
    {
     "data": {
      "text/plain": [
       "{'C': 0.1318256738556407}"
      ]
     },
     "execution_count": 15,
     "metadata": {},
     "output_type": "execute_result"
    }
   ],
   "source": [
    "c = glm3.best_params_[\"C\"]\n",
    "glm3 = GridSearchCV(LogisticRegression(max_iter=1000,penalty='l1',solver='liblinear'), \n",
    "                    scoring='roc_auc', cv=10,\n",
    "                    param_grid={'C': [10**i for i in np.linspace(np.log10(c)-0.02,np.log10(c)+0.02,11)] }, n_jobs=-1)\n",
    "glm3.fit(train_clean,y_train)\n",
    "glm3.best_params_"
   ]
  },
  {
   "cell_type": "markdown",
   "metadata": {},
   "source": [
    "Best coefficient is $C = 10^{-.90}$. This is what I'll use to fit logistic regression with Lasso regularization:"
   ]
  },
  {
   "cell_type": "code",
   "execution_count": 16,
   "metadata": {},
   "outputs": [
    {
     "data": {
      "text/plain": [
       "LogisticRegression(C=0.1318256738556407, max_iter=1000, penalty='l1',\n",
       "                   solver='liblinear')"
      ]
     },
     "execution_count": 16,
     "metadata": {},
     "output_type": "execute_result"
    }
   ],
   "source": [
    "c = glm3.best_params_[\"C\"]\n",
    "lasso = LogisticRegression(max_iter=1000,penalty='l1',solver='liblinear',C=c)\n",
    "lasso.fit(train_clean,y_train)"
   ]
  },
  {
   "cell_type": "code",
   "execution_count": 17,
   "metadata": {},
   "outputs": [
    {
     "name": "stdout",
     "output_type": "stream",
     "text": [
      "LogisticRegression(C=0.1318256738556407, max_iter=1000, penalty='l1',\n",
      "                   solver='liblinear')\n",
      "CV mean: 0.7648179352187394\n",
      "CV sd: 0.012705744872916805\n"
     ]
    }
   ],
   "source": [
    "cross_val = cross_val_score(lasso, train_clean, y_train, cv=10, scoring='roc_auc', n_jobs=-1)\n",
    "print(lasso)\n",
    "print(\"CV mean:\", cross_val.mean())\n",
    "print(\"CV sd:\", cross_val.std())"
   ]
  },
  {
   "cell_type": "markdown",
   "metadata": {},
   "source": [
    "## GLM Model Conclusion"
   ]
  },
  {
   "cell_type": "markdown",
   "metadata": {},
   "source": [
    "RFECV has the best ROC-AUC score estimate by cross-validation."
   ]
  },
  {
   "cell_type": "markdown",
   "metadata": {},
   "source": [
    "# Random Forest"
   ]
  },
  {
   "cell_type": "markdown",
   "metadata": {},
   "source": [
    "For tree based methods, column 'x33' (US states classified into \"VeryLow\", \"Low\", \"Medium\", \"High\", \"VeryHigh\" categories) should be treated as an ordinal variable, rather than one-hot encoding."
   ]
  },
  {
   "cell_type": "code",
   "execution_count": 18,
   "metadata": {},
   "outputs": [],
   "source": [
    "x33_categories = [\"VeryLow\",\"Low\",\"Medium\",\"High\",\"VeryHigh\"]\n",
    "enc = OrdinalEncoder(categories = [x33_categories])\n",
    "train_clean_rf = train_clean.drop([\"x33_VeryLow\",\"x33_Medium\",\"x33_High\",\"x33_VeryHigh\"],axis=1)\n",
    "train_clean_rf[\"x33\"] = enc.fit_transform(train.x33.to_numpy().reshape(-1,1)).reshape(1,-1)[0]"
   ]
  },
  {
   "cell_type": "code",
   "execution_count": 19,
   "metadata": {},
   "outputs": [],
   "source": [
    "tree = DecisionTreeClassifier(max_depth=30,min_samples_split=20,min_samples_leaf=7,ccp_alpha=0.00015)\n",
    "alphas = tree.cost_complexity_pruning_path(train_clean_rf, y_train).ccp_alphas"
   ]
  },
  {
   "cell_type": "markdown",
   "metadata": {},
   "source": [
    "Determine the best cp_alpha parameter by cross-validation. Use \"one-standard-error rule\" to select the best ccp_alpha parameter."
   ]
  },
  {
   "cell_type": "code",
   "execution_count": 20,
   "metadata": {},
   "outputs": [],
   "source": [
    "bound = 0.00015\n",
    "cv_mean = []\n",
    "cv_sd = []\n",
    "for alpha in alphas[alphas>bound]:\n",
    "    tr = DecisionTreeClassifier(max_depth=30,min_samples_split=20,min_samples_leaf=7,ccp_alpha=alpha)\n",
    "    cross_val = cross_val_score(tr, train_clean_rf, y_train, cv=10, scoring='roc_auc', n_jobs=-1)\n",
    "    cv_mean.append(cross_val.mean())\n",
    "    cv_sd.append(cross_val.std())\n",
    "cv_mean = np.array(cv_mean)\n",
    "cv_sd = np.array(cv_sd)"
   ]
  },
  {
   "cell_type": "code",
   "execution_count": 21,
   "metadata": {},
   "outputs": [
    {
     "data": {
      "image/png": "[encoded data removed]",
      "text/plain": [
       "<Figure size 432x288 with 1 Axes>"
      ]
     },
     "metadata": {
      "needs_background": "light"
     },
     "output_type": "display_data"
    }
   ],
   "source": [
    "plt.figure()\n",
    "plt.plot(np.log10(alphas[alphas>bound]), cv_mean)\n",
    "plt.fill_between(np.log10(alphas[alphas>bound]),cv_mean+cv_sd,cv_mean-cv_sd,alpha=0.2)\n",
    "plt.hlines(cv_mean[np.argmax(cv_mean)],\n",
    "    xmin=min(np.log10(alphas[alphas>bound])),xmax=max(np.log10(alphas[alphas>bound])),\n",
    "             color='b',linestyles=\"dotted\")\n",
    "plt.hlines(cv_mean[np.argmax(cv_mean)]-cv_sd[np.argmax(cv_mean)],\n",
    "    xmin=min(np.log10(alphas[alphas>bound])),xmax=max(np.log10(alphas[alphas>bound])),\n",
    "             color='r',linestyles=\"dotted\")\n",
    "plt.xlabel(\"Complexity Parameter cp_alpha (Log Scale)\")\n",
    "plt.ylabel(\"10-CV ROC-AUC Score\")\n",
    "plt.show()"
   ]
  },
  {
   "cell_type": "code",
   "execution_count": 22,
   "metadata": {},
   "outputs": [
    {
     "name": "stdout",
     "output_type": "stream",
     "text": [
      "0.7381100225988495\n",
      "0.010614463756229533\n"
     ]
    }
   ],
   "source": [
    "ind = np.argmax(cv_mean)\n",
    "print(cv_mean[ind])\n",
    "print(cv_sd[ind])"
   ]
  },
  {
   "cell_type": "code",
   "execution_count": 23,
   "metadata": {},
   "outputs": [
    {
     "name": "stdout",
     "output_type": "stream",
     "text": [
      "14\n",
      "0.00047167223164789294\n"
     ]
    }
   ],
   "source": [
    "onestd = cv_mean>cv_mean[ind]-cv_sd[ind]\n",
    "# find one standard dev index\n",
    "ind1sd = onestd[::-1].argmax() + 1\n",
    "print(ind1sd)\n",
    "# set complexity parameter\n",
    "cp = alphas[alphas>bound][-ind1sd]\n",
    "print(cp)"
   ]
  },
  {
   "cell_type": "code",
   "execution_count": 24,
   "metadata": {},
   "outputs": [
    {
     "data": {
      "text/plain": [
       "DecisionTreeClassifier(ccp_alpha=0.00047167223164789294, max_depth=30,\n",
       "                       min_samples_leaf=7, min_samples_split=20)"
      ]
     },
     "execution_count": 24,
     "metadata": {},
     "output_type": "execute_result"
    }
   ],
   "source": [
    "tree_clf = DecisionTreeClassifier(max_depth=30,min_samples_split=20,min_samples_leaf=7,ccp_alpha=cp)\n",
    "tree_clf.fit(train_clean_rf,y_train)"
   ]
  },
  {
   "cell_type": "code",
   "execution_count": 25,
   "metadata": {},
   "outputs": [
    {
     "data": {
      "image/png": "[encoded data removed]",
      "text/plain": [
       "<Figure size 1152x720 with 1 Axes>"
      ]
     },
     "metadata": {
      "needs_background": "light"
     },
     "output_type": "display_data"
    }
   ],
   "source": [
    "plt.figure(figsize=(16,10))\n",
    "plot_tree(tree_clf)\n",
    "plt.show()"
   ]
  },
  {
   "cell_type": "markdown",
   "metadata": {},
   "source": [
    "Check the ROC-AUC score on training data for a single decision tree:"
   ]
  },
  {
   "cell_type": "code",
   "execution_count": 26,
   "metadata": {},
   "outputs": [
    {
     "data": {
      "text/plain": [
       "0.7377896373412244"
      ]
     },
     "execution_count": 26,
     "metadata": {},
     "output_type": "execute_result"
    }
   ],
   "source": [
    "roc_auc_score(y_train, tree_clf.predict_proba(train_clean_rf)[:,1])"
   ]
  },
  {
   "cell_type": "markdown",
   "metadata": {},
   "source": [
    "Now, use the parameters to create a random forest classifier:"
   ]
  },
  {
   "cell_type": "code",
   "execution_count": 27,
   "metadata": {},
   "outputs": [
    {
     "name": "stdout",
     "output_type": "stream",
     "text": [
      "RandomForestClassifier(ccp_alpha=0.00047167223164789294, max_depth=30,\n",
      "                       min_samples_leaf=7, min_samples_split=20,\n",
      "                       n_estimators=500, n_jobs=-1, oob_score=True)\n",
      "CV mean: 0.7636491727664316\n",
      "CV sd: 0.013823509108935745\n"
     ]
    }
   ],
   "source": [
    "rf = RandomForestClassifier(n_estimators=500,max_depth=30,min_samples_split=20,\n",
    "                            min_samples_leaf=7,ccp_alpha=cp,n_jobs=-1,\n",
    "                            oob_score=True)\n",
    "cross_val = cross_val_score(rf, train_clean_rf, y_train, cv=10, scoring='roc_auc', n_jobs=-1)\n",
    "print(rf)\n",
    "print(\"CV mean:\",cross_val.mean())\n",
    "print(\"CV sd:\",cross_val.std())"
   ]
  },
  {
   "cell_type": "markdown",
   "metadata": {},
   "source": [
    "Examine feature importance for the random forest classifier. Plot the top 10 most influential features. Note that 'x33', the categorical feature now treated as ordinal, is among the top 5 features identified."
   ]
  },
  {
   "cell_type": "code",
   "execution_count": 30,
   "metadata": {},
   "outputs": [
    {
     "data": {
      "image/png": "[encoded data removed]",
      "text/plain": [
       "<Figure size 432x288 with 1 Axes>"
      ]
     },
     "metadata": {
      "needs_background": "light"
     },
     "output_type": "display_data"
    }
   ],
   "source": [
    "rf.fit(train_clean_rf,y_train)\n",
    "pd.Series(rf.feature_importances_, index=train_clean_rf.columns).sort_values(ascending=False).iloc[:10].plot(kind='bar')\n",
    "plt.show()"
   ]
  },
  {
   "cell_type": "markdown",
   "metadata": {},
   "source": [
    "## AdaBoosting"
   ]
  },
  {
   "cell_type": "markdown",
   "metadata": {},
   "source": [
    "We'll fit an AdaBoost classifier using max_depth=1 decision trees (stumps) as a weak learner. Cross validation showed trees with max_depth=1 outperformed deeper trees."
   ]
  },
  {
   "cell_type": "code",
   "execution_count": 31,
   "metadata": {
    "scrolled": true
   },
   "outputs": [
    {
     "name": "stdout",
     "output_type": "stream",
     "text": [
      "GridSearchCV(cv=10,\n",
      "             estimator=AdaBoostClassifier(base_estimator=DecisionTreeClassifier(max_depth=1)),\n",
      "             n_jobs=-1,\n",
      "             param_grid={'learning_rate': [1.0, 0.6309573444801932,\n",
      "                                           0.3981071705534972,\n",
      "                                           0.25118864315095796,\n",
      "                                           0.15848931924611134, 0.1],\n",
      "                         'n_estimators': [50, 100, 200, 400]},\n",
      "             scoring='roc_auc')\n",
      "Best: 0.804103 using {'learning_rate': 0.25118864315095796, 'n_estimators': 200}\n",
      "0.793733 (0.008189) with: {'learning_rate': 1.0, 'n_estimators': 50}\n",
      "0.793148 (0.010280) with: {'learning_rate': 1.0, 'n_estimators': 100}\n",
      "0.790330 (0.008748) with: {'learning_rate': 1.0, 'n_estimators': 200}\n",
      "0.785165 (0.009520) with: {'learning_rate': 1.0, 'n_estimators': 400}\n",
      "0.797736 (0.008751) with: {'learning_rate': 0.6309573444801932, 'n_estimators': 50}\n",
      "0.798828 (0.008953) with: {'learning_rate': 0.6309573444801932, 'n_estimators': 100}\n",
      "0.795713 (0.008088) with: {'learning_rate': 0.6309573444801932, 'n_estimators': 200}\n",
      "0.792292 (0.007071) with: {'learning_rate': 0.6309573444801932, 'n_estimators': 400}\n",
      "0.797458 (0.009788) with: {'learning_rate': 0.3981071705534972, 'n_estimators': 50}\n",
      "0.803145 (0.009282) with: {'learning_rate': 0.3981071705534972, 'n_estimators': 100}\n",
      "0.802637 (0.008890) with: {'learning_rate': 0.3981071705534972, 'n_estimators': 200}\n",
      "0.798722 (0.008005) with: {'learning_rate': 0.3981071705534972, 'n_estimators': 400}\n",
      "0.791412 (0.010850) with: {'learning_rate': 0.25118864315095796, 'n_estimators': 50}\n",
      "0.800399 (0.009601) with: {'learning_rate': 0.25118864315095796, 'n_estimators': 100}\n",
      "0.804103 (0.009402) with: {'learning_rate': 0.25118864315095796, 'n_estimators': 200}\n",
      "0.802299 (0.007831) with: {'learning_rate': 0.25118864315095796, 'n_estimators': 400}\n",
      "0.783870 (0.011252) with: {'learning_rate': 0.15848931924611134, 'n_estimators': 50}\n",
      "0.795016 (0.010290) with: {'learning_rate': 0.15848931924611134, 'n_estimators': 100}\n",
      "0.802887 (0.009149) with: {'learning_rate': 0.15848931924611134, 'n_estimators': 200}\n",
      "0.804039 (0.008919) with: {'learning_rate': 0.15848931924611134, 'n_estimators': 400}\n",
      "0.773151 (0.012644) with: {'learning_rate': 0.1, 'n_estimators': 50}\n",
      "0.788248 (0.011370) with: {'learning_rate': 0.1, 'n_estimators': 100}\n",
      "0.798258 (0.009826) with: {'learning_rate': 0.1, 'n_estimators': 200}\n",
      "0.803781 (0.009159) with: {'learning_rate': 0.1, 'n_estimators': 400}\n"
     ]
    }
   ],
   "source": [
    "ada_clf = GridSearchCV(\n",
    "    AdaBoostClassifier(\n",
    "        DecisionTreeClassifier(max_depth=1),\n",
    "        algorithm=\"SAMME.R\"\n",
    "    ),\n",
    "    scoring='roc_auc',cv=10, n_jobs=-1,\n",
    "    param_grid={'n_estimators': [50,100,200,400],\n",
    "               'learning_rate': [10**i for i in np.linspace(0,-1,6)]}\n",
    ")\n",
    "grid_search = ada_clf.fit(train_clean_rf, y_train)\n",
    "print(grid_search)\n",
    "\n",
    "print(\"Best: %f using %s\" % (ada_clf.best_score_, ada_clf.best_params_))\n",
    "means = ada_clf.cv_results_['mean_test_score']\n",
    "stds = ada_clf.cv_results_['std_test_score']\n",
    "params = ada_clf.cv_results_['params']\n",
    "for mean, stdev, param in zip(means, stds, params):\n",
    "    print(\"%f (%f) with: %r\" % (mean, stdev, param))"
   ]
  },
  {
   "cell_type": "code",
   "execution_count": 32,
   "metadata": {},
   "outputs": [
    {
     "name": "stdout",
     "output_type": "stream",
     "text": [
      "GridSearchCV(cv=10,\n",
      "             estimator=AdaBoostClassifier(base_estimator=DecisionTreeClassifier(max_depth=1)),\n",
      "             n_jobs=-1,\n",
      "             param_grid={'learning_rate': [0.1, 0.15848931924611134],\n",
      "                         'n_estimators': [316, 421, 562, 749, 1000]},\n",
      "             scoring='roc_auc')\n",
      "Best: 0.804244 using {'learning_rate': 0.15848931924611134, 'n_estimators': 316}\n",
      "0.802593 (0.009254) with: {'learning_rate': 0.1, 'n_estimators': 316}\n",
      "0.803920 (0.009181) with: {'learning_rate': 0.1, 'n_estimators': 421}\n",
      "0.804110 (0.009024) with: {'learning_rate': 0.1, 'n_estimators': 562}\n",
      "0.804008 (0.008441) with: {'learning_rate': 0.1, 'n_estimators': 749}\n",
      "0.801792 (0.007407) with: {'learning_rate': 0.1, 'n_estimators': 1000}\n",
      "0.804244 (0.009447) with: {'learning_rate': 0.15848931924611134, 'n_estimators': 316}\n",
      "0.804182 (0.008939) with: {'learning_rate': 0.15848931924611134, 'n_estimators': 421}\n",
      "0.802917 (0.007765) with: {'learning_rate': 0.15848931924611134, 'n_estimators': 562}\n",
      "0.800636 (0.007532) with: {'learning_rate': 0.15848931924611134, 'n_estimators': 749}\n",
      "0.798990 (0.007850) with: {'learning_rate': 0.15848931924611134, 'n_estimators': 1000}\n"
     ]
    }
   ],
   "source": [
    "ada_clf = GridSearchCV(\n",
    "    AdaBoostClassifier(\n",
    "        DecisionTreeClassifier(max_depth=1),\n",
    "        algorithm=\"SAMME.R\"\n",
    "    ),\n",
    "    scoring='roc_auc',cv=10, n_jobs=-1,\n",
    "    param_grid={'n_estimators': [int(10**i) for i in np.linspace(2.5,3.0,5)],\n",
    "               'learning_rate': [10**i for i in np.linspace(-1,-0.8,2)]}\n",
    ")\n",
    "grid_search = ada_clf.fit(train_clean_rf, y_train)\n",
    "print(grid_search)\n",
    "\n",
    "print(\"Best: %f using %s\" % (grid_search.best_score_, ada_clf.best_params_))\n",
    "means = grid_search.cv_results_['mean_test_score']\n",
    "stds = grid_search.cv_results_['std_test_score']\n",
    "params = grid_search.cv_results_['params']\n",
    "for mean, stdev, param in zip(means, stds, params):\n",
    "    print(\"%f (%f) with: %r\" % (mean, stdev, param))"
   ]
  },
  {
   "cell_type": "markdown",
   "metadata": {},
   "source": [
    "With GridSearchCV, the parameters that performed best by ROC-AUC score were with learning rate 0.1 and 750 estimators. With a large number of estimators the model is very resourse heavy, however some simpler models, e.g. with learning rate 0.63 and only 50 estimators acheive 10-fold cross-validation ROC-AUC scores within one standard deviation of the best score achieved by grid search."
   ]
  },
  {
   "cell_type": "code",
   "execution_count": 33,
   "metadata": {},
   "outputs": [
    {
     "data": {
      "text/plain": [
       "AdaBoostClassifier(base_estimator=DecisionTreeClassifier(max_depth=1),\n",
       "                   learning_rate=0.6309573444801932)"
      ]
     },
     "execution_count": 33,
     "metadata": {},
     "output_type": "execute_result"
    }
   ],
   "source": [
    "# AdaBoost with large number of classifiers\n",
    "ada1 = AdaBoostClassifier(DecisionTreeClassifier(max_depth=1),\n",
    "    algorithm=\"SAMME.R\",learning_rate=0.1,n_estimators=750)\n",
    "ada1.fit(train_clean_rf,y_train)\n",
    "\n",
    "# AdaBoost classifier with higher learning rate and less classifiersy\n",
    "ada2 = AdaBoostClassifier(DecisionTreeClassifier(max_depth=1),\n",
    "    algorithm=\"SAMME.R\",learning_rate=10**(-.2),n_estimators=50)\n",
    "ada2.fit(train_clean_rf,y_train)"
   ]
  },
  {
   "cell_type": "code",
   "execution_count": 34,
   "metadata": {},
   "outputs": [
    {
     "name": "stdout",
     "output_type": "stream",
     "text": [
      "AdaBoostClassifier(base_estimator=DecisionTreeClassifier(max_depth=1),\n",
      "                   learning_rate=0.6309573444801932)\n",
      "CV mean: 0.7977356023307908\n",
      "CV sd: 0.008751465170972313\n"
     ]
    }
   ],
   "source": [
    "cross_val = cross_val_score(ada2, train_clean_rf, y_train, cv=10, scoring='roc_auc', n_jobs=-1)\n",
    "print(ada2)\n",
    "print(\"CV mean:\",cross_val.mean())\n",
    "print(\"CV sd:\", cross_val.std())"
   ]
  },
  {
   "cell_type": "code",
   "execution_count": 35,
   "metadata": {},
   "outputs": [
    {
     "name": "stdout",
     "output_type": "stream",
     "text": [
      "AdaBoostClassifier(base_estimator=DecisionTreeClassifier(max_depth=1),\n",
      "                   learning_rate=0.1, n_estimators=750)\n",
      "CV mean: 0.8040180855615457\n",
      "CV sd: 0.008443770842821025\n"
     ]
    }
   ],
   "source": [
    "cross_val = cross_val_score(ada1, train_clean_rf, y_train, cv=10, scoring='roc_auc', n_jobs=-1)\n",
    "print(ada1)\n",
    "print(\"CV mean:\",cross_val.mean())\n",
    "print(\"CV sd:\",cross_val.std())"
   ]
  },
  {
   "cell_type": "markdown",
   "metadata": {},
   "source": [
    "# Conclusion"
   ]
  },
  {
   "cell_type": "markdown",
   "metadata": {},
   "source": [
    "The goal is to choose the best models to use for classifying the testing data based on ROC-AUC score. Using mean ROC-AUC score over 10-fold CV to infer the generalizability of each model to future data, the best model in the glm family was from recursive feature elimination. This model outperformed both p-value thresholding and Lasso regularization.\n",
    "\n",
    "Among the other models, the best performance was clearly achieve by AdaBoost, consistently achieving higher ROC-AUC scores than other models. The best model performance was achieved with a small learning rate and large number of estimators. This is the best model in terms of ROC-AUC score by far. However, with the large number of estimators this model is very resource heavy. A simpler AdaBoost model fit with larger learning rate and fewer estimators would require far less computational resources yet achieve nearly the same ROC-AUC score.\n",
    "\n",
    "In terms of maximizing the ROC-AUC score the best performing model is the more computationally expensive option, but if resources were an issue, a less complex AdaBoost model could be expected to achieve similar performance."
   ]
  }
 ],
 "metadata": {
  "kernelspec": {
   "display_name": "Python 3",
   "language": "python",
   "name": "python3"
  },
  "language_info": {
   "codemirror_mode": {
    "name": "ipython",
    "version": 3
   },
   "file_extension": ".py",
   "mimetype": "text/x-python",
   "name": "python",
   "nbconvert_exporter": "python",
   "pygments_lexer": "ipython3",
   "version": "3.8.5"
  }
 },
 "nbformat": 4,
 "nbformat_minor": 4
}
